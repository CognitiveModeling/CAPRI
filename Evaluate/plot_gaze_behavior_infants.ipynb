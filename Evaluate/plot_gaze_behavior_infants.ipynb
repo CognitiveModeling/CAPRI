{
 "cells": [
  {
   "cell_type": "markdown",
   "metadata": {},
   "source": [
    "# Script to generate Figure 6 (b)"
   ]
  },
  {
   "cell_type": "code",
   "execution_count": null,
   "metadata": {},
   "outputs": [],
   "source": [
    "import numpy as np\n",
    "import matplotlib.pyplot as plt\n",
    "import tikzplotlib"
   ]
  },
  {
   "cell_type": "markdown",
   "metadata": {},
   "source": [
    "Data of *Goal saliency boosts infants’ action prediction for human\n",
    "manual actions, but not for mechanical claws* (2016),\n",
    "M. Adam, I. Reitenbach, F. Papenmeierc, G. Gredebäck\n",
    ", C. Elsner, & B. Elsner"
   ]
  },
  {
   "cell_type": "code",
   "execution_count": null,
   "metadata": {},
   "outputs": [],
   "source": [
    "mu = np.array([200.8, 9.8])\n",
    "se = np.array([82, 85.3])"
   ]
  },
  {
   "cell_type": "code",
   "execution_count": null,
   "metadata": {},
   "outputs": [],
   "source": [
    "# Nice color definitions\n",
    "colors = [(0.368, 0.507, 0.71), (0.881, 0.611, 0.142),\n",
    "          (0.56, 0.692, 0.195), (0.923, 0.386, 0.209),\n",
    "          (0.528, 0.471, 0.701), (0.772, 0.432, 0.102),\n",
    "          (0.364, 0.619, 0.782), (0.572, 0.586, 0.) ]"
   ]
  },
  {
   "cell_type": "code",
   "execution_count": null,
   "metadata": {},
   "outputs": [],
   "source": [
    "\n",
    "plt.errorbar([0], mu[0], se[0], color=colors[0], markersize= 12, elinewidth = 3, marker='o')\n",
    "plt.errorbar([1], mu[1], se[1], color=colors[3], markersize= 12, elinewidth=3, marker='o')\n",
    "plt.plot([-1, 2], [0, 0], 'k:')\n",
    "plt.xlim([-0.5, 1.5])\n",
    "plt.xticks([0, 1], ['Hand', 'Claw'])\n",
    "plt.ylabel('Mean gaze arrival time (ms)')\n",
    "plt.title('Gaze behavior in 11-month-olds')\n",
    "#plt.show()\n",
    "tikzplotlib.save(\"resultPlots/gaze_behavior_infants.tex\")"
   ]
  }
 ],
 "metadata": {
  "kernelspec": {
   "display_name": "Python 3",
   "language": "python",
   "name": "python3"
  },
  "language_info": {
   "codemirror_mode": {
    "name": "ipython",
    "version": 3
   },
   "file_extension": ".py",
   "mimetype": "text/x-python",
   "name": "python",
   "nbconvert_exporter": "python",
   "pygments_lexer": "ipython3",
   "version": "3.7.3"
  }
 },
 "nbformat": 4,
 "nbformat_minor": 2
}
