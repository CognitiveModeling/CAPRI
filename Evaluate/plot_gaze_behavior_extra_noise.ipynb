{
 "cells": [
  {
   "cell_type": "markdown",
   "metadata": {},
   "source": [
    "# Script to generate Figure 10"
   ]
  },
  {
   "cell_type": "code",
   "execution_count": null,
   "metadata": {},
   "outputs": [],
   "source": [
    "import numpy as np\n",
    "import matplotlib.pyplot as plt\n",
    "import tikzplotlib"
   ]
  },
  {
   "cell_type": "markdown",
   "metadata": {},
   "source": [
    "Read in data"
   ]
  },
  {
   "cell_type": "code",
   "execution_count": null,
   "metadata": {},
   "outputs": [],
   "source": [
    "foldername= \"PATH:/to/your/data\" # enter directory of log files\n",
    "num_sims = 20"
   ]
  },
  {
   "cell_type": "code",
   "execution_count": null,
   "metadata": {},
   "outputs": [],
   "source": [
    "event_t = 1 # index of e(t)\n",
    "policy_t = 2 # index of pi(t)"
   ]
  },
  {
   "cell_type": "code",
   "execution_count": null,
   "metadata": {},
   "outputs": [],
   "source": [
    "def find_t_look_policy(data):\n",
    "    for t in range(270):\n",
    "        if data[t, policy_t] == 1:\n",
    "            return t\n",
    "    return 270"
   ]
  },
  {
   "cell_type": "code",
   "execution_count": null,
   "metadata": {},
   "outputs": [],
   "source": [
    "def normalize_t(data, t_look):\n",
    "    return  (270 - t_look)/100"
   ]
  },
  {
   "cell_type": "code",
   "execution_count": null,
   "metadata": {},
   "outputs": [],
   "source": [
    "looking_ts_hand_policy = np.zeros((num_sims, 6, 10), dtype='float64')\n",
    "sd_values = np.array([0.5, 1.0, 2.0, 3.0, 4.0, 5.0])\n",
    "for index in range(6):\n",
    "    mean_mean_ts = 0.0\n",
    "    for sim in range(num_sims):\n",
    "        epoch = 30\n",
    "        mean_ts = 0.0\n",
    "        for run in range(10):\n",
    "            filename = foldername + str(sim) + '_epoch' + str(epoch) + '_hand_' + str(sd_values[index])+ '_run' + str(run) + '.txt'\n",
    "            data = np.loadtxt(filename, dtype='float64', skiprows = 1, delimiter= ', ')\n",
    "            t_look_policy = find_t_look_policy(data)\n",
    "            looking_ts_hand_policy[sim, index, run] = normalize_t(data, t_look_policy)\n",
    "            mean_ts += normalize_t(data, t_look_policy)\n",
    "        mean_ts /= 10.0\n",
    "        mean_mean_ts += mean_ts\n",
    "        print(\"Processed hand-agent data with noise \" + str(sd_values[index]) + \" of simulation \" + str(sim) + \" = \" + str(mean_ts))\n",
    "    mean_mean_ts /= num_sims\n",
    "    print(\"------ For noise \" + str(sd_values[index]) + \" = \" + str(mean_mean_ts) + \" -----------\")"
   ]
  },
  {
   "cell_type": "code",
   "execution_count": null,
   "metadata": {},
   "outputs": [],
   "source": [
    "mu = np.mean(np.mean(looking_ts_hand_policy, axis=2), axis=0)\n",
    "se = np.std(np.mean(looking_ts_hand_policy, axis=2), axis=0)"
   ]
  },
  {
   "cell_type": "code",
   "execution_count": null,
   "metadata": {},
   "outputs": [],
   "source": [
    "# Nice color definitions\n",
    "colors = [(0.368, 0.507, 0.71), (0.881, 0.611, 0.142),\n",
    "          (0.56, 0.692, 0.195), (0.923, 0.386, 0.209),\n",
    "          (0.528, 0.471, 0.701), (0.772, 0.432, 0.102),\n",
    "          (0.364, 0.619, 0.782), (0.572, 0.586, 0.) ]"
   ]
  },
  {
   "cell_type": "code",
   "execution_count": null,
   "metadata": {},
   "outputs": [],
   "source": [
    "plt.errorbar([0], mu[0], se[0], color=colors[0], markersize= 12, elinewidth = 3, marker='o')\n",
    "plt.errorbar([1], mu[1], se[1], color=colors[0], markersize= 12, elinewidth=3, marker='o')\n",
    "plt.errorbar([2], mu[2], se[2], color=colors[0], markersize= 12, elinewidth = 3, marker='o')\n",
    "plt.errorbar([3], mu[3], se[3], color=colors[0], markersize= 12, elinewidth=3, marker='o')\n",
    "plt.errorbar([4], mu[4], se[4], color=colors[0], markersize= 12, elinewidth=3, marker='o')\n",
    "plt.errorbar([5], mu[5], se[5], color=colors[0], markersize= 12, elinewidth=3, marker='o')\n",
    "plt.xlim([-0.5, 5.5])\n",
    "plt.plot([-1, 6], [0.0, 0.0], 'k')\n",
    "plt.plot([-1, 6], [0.69, 0.69], 'k')\n",
    "plt.plot([-1, 6], [1.7, 1.7], 'k')\n",
    "plt.plot([-1, 6], [2.7, 2.7], 'k')\n",
    "plt.ylabel('')\n",
    "plt.xlabel('Standard deviation of randomly sampled modification of s^a')\n",
    "plt.title('Time t of first activating pi_p')\n",
    "#plt.show()\n",
    "tikzplotlib.save(\"resultPlots/gaze_behavior_extra_noise.tex\")"
   ]
  }
 ],
 "metadata": {
  "kernelspec": {
   "display_name": "Python 3",
   "language": "python",
   "name": "python3"
  },
  "language_info": {
   "codemirror_mode": {
    "name": "ipython",
    "version": 3
   },
   "file_extension": ".py",
   "mimetype": "text/x-python",
   "name": "python",
   "nbconvert_exporter": "python",
   "pygments_lexer": "ipython3",
   "version": "3.7.3"
  }
 },
 "nbformat": 4,
 "nbformat_minor": 2
}
