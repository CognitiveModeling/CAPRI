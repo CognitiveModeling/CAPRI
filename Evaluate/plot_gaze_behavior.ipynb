{
 "cells": [
  {
   "cell_type": "markdown",
   "metadata": {},
   "source": [
    "# Script to generate Figure 6 (a)"
   ]
  },
  {
   "cell_type": "code",
   "execution_count": null,
   "metadata": {},
   "outputs": [],
   "source": [
    "import numpy as np"
   ]
  },
  {
   "cell_type": "markdown",
   "metadata": {},
   "source": [
    "Define path to result files. Define number of simulations for reading in the data"
   ]
  },
  {
   "cell_type": "code",
   "execution_count": null,
   "metadata": {},
   "outputs": [],
   "source": [
    "foldername= \"PATH:/to/your/data\" # enter directory of log files\n",
    "num_sims = 20"
   ]
  },
  {
   "cell_type": "markdown",
   "metadata": {},
   "source": [
    "Define indices of data where to find which information"
   ]
  },
  {
   "cell_type": "code",
   "execution_count": null,
   "metadata": {},
   "outputs": [],
   "source": [
    "event_t = 1 # index of e(t)\n",
    "policy_t = 2 # index of pi(t)"
   ]
  },
  {
   "cell_type": "markdown",
   "metadata": {},
   "source": [
    "For one result file determine the point t when $\\pi(t) = \\pi_p$"
   ]
  },
  {
   "cell_type": "code",
   "execution_count": null,
   "metadata": {},
   "outputs": [],
   "source": [
    "def find_t_look_policy(data):\n",
    "    for t in range(270):\n",
    "        if data[t, policy_t] == 1:\n",
    "            return t\n",
    "    return 270"
   ]
  },
  {
   "cell_type": "markdown",
   "metadata": {},
   "source": [
    "We can also determine gaze at the AOI of the reaching target. This can be done for example by determining if the system looks at the patient or at the agent, when it is already transporting the patient, and is, thus, closer than a predefined distance threshold"
   ]
  },
  {
   "cell_type": "code",
   "execution_count": null,
   "metadata": {},
   "outputs": [],
   "source": [
    "def find_t_look(data):\n",
    "    for t in range(270):\n",
    "        if data[t, policy_t] == 1 or (data[t, event_t] == 3 and data[t, policy_t] == 0):\n",
    "            return t\n",
    "    return 270"
   ]
  },
  {
   "cell_type": "code",
   "execution_count": null,
   "metadata": {},
   "outputs": [],
   "source": [
    "def normalize_t(data, t_look):\n",
    "    return  (270 - t_look)/100"
   ]
  },
  {
   "cell_type": "markdown",
   "metadata": {},
   "source": [
    "Read in hand-agent and claw-agent testing data and compute time $t$ of first goal-predictive gaze"
   ]
  },
  {
   "cell_type": "code",
   "execution_count": null,
   "metadata": {},
   "outputs": [],
   "source": [
    "looking_ts_hand = np.zeros((num_sims, 30, 10), dtype='float64')\n",
    "looking_ts_hand_policy = np.zeros((num_sims, 30, 10), dtype='float64')\n",
    "for sim in range(num_sims):\n",
    "    for epoch in range(30):\n",
    "        for run in range(10):\n",
    "            filename = foldername + str(sim) + '_epoch' + str(epoch) + '_hand_run' + str(run) + '.txt'\n",
    "            data = np.loadtxt(filename, dtype='float64', skiprows = 1, delimiter= ', ')\n",
    "            t_look = find_t_look(data)\n",
    "            t_look_policy = find_t_look_policy(data)\n",
    "            looking_ts_hand[sim, epoch, run] = normalize_t(data, t_look)\n",
    "            looking_ts_hand_policy[sim, epoch, run] = normalize_t(data, t_look_policy)\n",
    "    print(\"Processed hand-agent data of simulation \" + str(sim))"
   ]
  },
  {
   "cell_type": "code",
   "execution_count": null,
   "metadata": {},
   "outputs": [],
   "source": [
    "looking_ts_claw = np.zeros((num_sims, 30, 10), dtype='float64')\n",
    "looking_ts_claw_policy = np.zeros((num_sims, 30, 10), dtype='float64')\n",
    "for sim in range(num_sims):\n",
    "    for epoch in range(30):\n",
    "        for run in range(10):\n",
    "            filename = foldername + str(sim) + '_epoch' + str(epoch) + '_claw_run' + str(run) + '.txt'\n",
    "            data = np.loadtxt(filename, dtype='float64', skiprows = 1, delimiter= ', ')\n",
    "            t_look = find_t_look(data)\n",
    "            t_look_policy = find_t_look_policy(data)\n",
    "            looking_ts_claw[sim, epoch, run] = normalize_t(data, t_look)\n",
    "            looking_ts_claw_policy[sim, epoch, run] = normalize_t(data, t_look_policy)\n",
    "    print(\"Processed claw-agent data of simulation \" + str(sim))"
   ]
  },
  {
   "cell_type": "code",
   "execution_count": null,
   "metadata": {},
   "outputs": [],
   "source": [
    "# Compute mean\n",
    "looking_ts_hand_mean = np.mean(np.mean(looking_ts_hand_policy, axis=2), axis = 0)\n",
    "looking_ts_hand_sd = np.std(np.mean(looking_ts_hand_policy, axis=2), axis=0)\n",
    "looking_ts_claw_mean = np.mean(np.mean(looking_ts_claw_policy, axis=2), axis=0)\n",
    "looking_ts_claw_sd = np.std(np.mean(looking_ts_claw_policy, axis=2), axis=0)"
   ]
  },
  {
   "cell_type": "markdown",
   "metadata": {},
   "source": [
    "Plot the gaze-behavior"
   ]
  },
  {
   "cell_type": "code",
   "execution_count": null,
   "metadata": {},
   "outputs": [],
   "source": [
    "# Nice color definitions\n",
    "colors = [(0.368, 0.507, 0.71), (0.881, 0.611, 0.142),\n",
    "          (0.56, 0.692, 0.195), (0.923, 0.386, 0.209),\n",
    "          (0.528, 0.471, 0.701), (0.772, 0.432, 0.102),\n",
    "          (0.364, 0.619, 0.782), (0.572, 0.586, 0.) ]"
   ]
  },
  {
   "cell_type": "code",
   "execution_count": null,
   "metadata": {},
   "outputs": [],
   "source": [
    "import matplotlib.pyplot as plt\n",
    "\n",
    "epochs = range(30)\n",
    "\n",
    "# hand-agent data\n",
    "x1 = epochs\n",
    "y1 = looking_ts_hand_mean\n",
    "err1 = looking_ts_hand_sd\n",
    "line1= plt.plot(x1, y1, color=colors[0], linewidth=8)\n",
    "plt.fill_between(x1, y1-err1, y1+err1, alpha=0.5, facecolor=colors[0])\n",
    "\n",
    "# claw-agent data\n",
    "x2 = epochs\n",
    "y2 = looking_ts_claw_mean\n",
    "err2= looking_ts_claw_sd\n",
    "line2 = plt.plot(x2, y2, color=colors[3], linewidth=8)\n",
    "plt.fill_between(x2, y2-err2, y2+err2, alpha=0.5, facecolor=colors[3])\n",
    "\n",
    "# Event boundaries\n",
    "plt.plot([0, 30], [0.0, 0.0], 'k')\n",
    "plt.plot([0, 30], [0.69, 0.69], 'k')\n",
    "plt.plot([0, 30], [1.7, 1.7], 'k')\n",
    "plt.plot([0, 30], [2.7, 2.7], 'k')\n",
    "plt.xlim([0, 30])\n",
    "plt.ylim([-0.5, 3.0])\n",
    "plt.yticks([0.35, 1.25, 2.25], ('e_random', 'e_transport', 'e_reach'))\n",
    "plt.legend((line1[0], line2[0]), ('Hand', 'Claw'))\n",
    "plt.title('Time t of first activation of \\pi_{patient}')\n",
    "plt.xlabel('# training phases')\n",
    "\n",
    "# Use this to just visualize the plot\n",
    "plt.show\n",
    "\n",
    "# Uncomment this, to store plot in tikz formatz\n",
    "import tikzplotlib\n",
    "#tikzplotlib.save(\"resultPlots/tikz_gaze_tau2.tex\")"
   ]
  }
 ],
 "metadata": {
  "kernelspec": {
   "display_name": "Python 3",
   "language": "python",
   "name": "python3"
  },
  "language_info": {
   "codemirror_mode": {
    "name": "ipython",
    "version": 3
   },
   "file_extension": ".py",
   "mimetype": "text/x-python",
   "name": "python",
   "nbconvert_exporter": "python",
   "pygments_lexer": "ipython3",
   "version": "3.7.3"
  }
 },
 "nbformat": 4,
 "nbformat_minor": 2
}
