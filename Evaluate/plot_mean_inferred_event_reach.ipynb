{
 "cells": [
  {
   "cell_type": "markdown",
   "metadata": {},
   "source": [
    "# Script to generate Figure 7 a & b"
   ]
  },
  {
   "cell_type": "code",
   "execution_count": null,
   "metadata": {},
   "outputs": [],
   "source": [
    "import numpy as np"
   ]
  },
  {
   "cell_type": "markdown",
   "metadata": {},
   "source": [
    "Define path to result files. Define number of simulations for reading in the data"
   ]
  },
  {
   "cell_type": "code",
   "execution_count": null,
   "metadata": {},
   "outputs": [],
   "source": [
    "foldername= \"PATH:/to/your/data\" # enter directory of log files\n",
    "num_sims = 20"
   ]
  },
  {
   "cell_type": "code",
   "execution_count": null,
   "metadata": {},
   "outputs": [],
   "source": [
    "# Index of event probabilities is 3, 4, 5, 6\n",
    "e_prob = 3"
   ]
  },
  {
   "cell_type": "code",
   "execution_count": null,
   "metadata": {},
   "outputs": [],
   "source": [
    "def reach_estimation_one_run(data):\n",
    "    reach_end = 100 # end of reaching event\n",
    "    reach_estimates = np.zeros((4))\n",
    "    for t in range(reach_end):\n",
    "        for e in range(4):\n",
    "            reach_estimates[e] += data[t, e + e_prob]\n",
    "    reach_estimates = reach_estimates/reach_end\n",
    "    return reach_estimates"
   ]
  },
  {
   "cell_type": "markdown",
   "metadata": {},
   "source": [
    "Read in hand-agent and claw-agent testing data and compute mean inferred event during reaching"
   ]
  },
  {
   "cell_type": "code",
   "execution_count": null,
   "metadata": {},
   "outputs": [],
   "source": [
    "# Find event estimates for reaching for hand\n",
    "reach_event_estimates_hand = np.zeros((num_sims, 30, 4))\n",
    "for sim in range(num_sims):\n",
    "    for epoch in range(30):\n",
    "        for run in range(10):\n",
    "            filename = foldername + str(sim) + '_epoch' + str(epoch) + '_hand_run' + str(run) + '.txt'\n",
    "            data = np.loadtxt(filename, dtype='float64', skiprows = 1, delimiter= ', ')\n",
    "            estimates = reach_estimation_one_run(data)\n",
    "            reach_event_estimates_hand[sim, epoch, :] = estimates[:]\n",
    "    print(\"Processed hand-agent data of simulation \" + str(sim))\n",
    "    \n",
    "# Find event estimates for reaching for claw\n",
    "reach_event_estimates_claw = np.zeros((num_sims, 30, 4))\n",
    "for sim in range(num_sims):\n",
    "    for epoch in range(30):\n",
    "        for run in range(10):\n",
    "            filename = foldername + str(sim) + '_epoch' + str(epoch) + '_claw_run' + str(run) + '.txt'\n",
    "            data = np.loadtxt(filename, dtype='float64', skiprows = 1, delimiter= ', ')\n",
    "            estimates = reach_estimation_one_run(data)\n",
    "            reach_event_estimates_claw[sim, epoch, :] = estimates[:]\n",
    "    print(\"Processed claw-agent data of simulation \" + str(sim))"
   ]
  },
  {
   "cell_type": "code",
   "execution_count": null,
   "metadata": {},
   "outputs": [],
   "source": [
    "# Take the mean\n",
    "reach_estimates_hand_over_time = np.mean(reach_event_estimates_hand, axis = 0)\n",
    "reach_estimates_claw_over_time = np.mean(reach_event_estimates_claw, axis = 0)"
   ]
  },
  {
   "cell_type": "code",
   "execution_count": null,
   "metadata": {},
   "outputs": [],
   "source": [
    "# Nice color definitions\n",
    "colors = [(0.368, 0.507, 0.71), (0.881, 0.611, 0.142),\n",
    "          (0.56, 0.692, 0.195), (0.923, 0.386, 0.209),\n",
    "          (0.528, 0.471, 0.701), (0.772, 0.432, 0.102),\n",
    "          (0.364, 0.619, 0.782), (0.572, 0.586, 0.) ]"
   ]
  },
  {
   "cell_type": "code",
   "execution_count": null,
   "metadata": {},
   "outputs": [],
   "source": [
    "import matplotlib.pyplot as plt\n",
    "\n",
    "epochs = range(30)\n",
    "\n",
    "line1= plt.plot([0],[0], color=colors[1], alpha=1)\n",
    "line2= plt.plot([0],[0], color=colors[5], alpha=1)\n",
    "line3= plt.plot([0],[0], color=colors[2], alpha=1)\n",
    "line4= plt.plot([0],[0], color=colors[4], alpha=1)\n",
    "\n",
    "plt.fill_between(epochs, 0, reach_estimates_hand_over_time[:, 0], alpha=1.0, facecolor=colors[1])\n",
    "plt.fill_between(epochs, reach_estimates_hand_over_time[:, 0], reach_estimates_hand_over_time[:, 0] + reach_estimates_hand_over_time[:, 1], alpha=1.0, facecolor=colors[5])\n",
    "plt.fill_between(epochs, reach_estimates_hand_over_time[:, 0] + reach_estimates_hand_over_time[:, 1], reach_estimates_hand_over_time[:, 0] + reach_estimates_hand_over_time[:, 1] + reach_estimates_hand_over_time[:, 2], alpha=1.0, facecolor=colors[2])\n",
    "plt.fill_between(epochs, reach_estimates_hand_over_time[:, 0] + reach_estimates_hand_over_time[:, 1] + + reach_estimates_hand_over_time[:, 2], reach_estimates_hand_over_time[:, 0] + reach_estimates_hand_over_time[:, 1] + reach_estimates_hand_over_time[:, 2] + + reach_estimates_hand_over_time[:, 3], alpha=1.0, facecolor=colors[4])\n",
    "\n",
    "#line1 = plot.errorbar(x=epochs, y=looking_ts_hand_mean, yerr=looking_ts_hand_sd, color='b')\n",
    "plt.legend((line1[0], line2[0], line3[0], line4[0]), ('still', 'random', 'reach', 'transport'))\n",
    "\n",
    "plt.xlim([0, 29])\n",
    "plt.ylim([0, 1])\n",
    "plt.xlabel('training phases')\n",
    "plt.ylabel('P(e(t)|O(t), Pi(t))')\n",
    "\n",
    "#plt.show()\n",
    "import tikzplotlib\n",
    "tikzplotlib.save(\"resultPlots/event_probability_reach_hand.tex\")"
   ]
  },
  {
   "cell_type": "code",
   "execution_count": null,
   "metadata": {},
   "outputs": [],
   "source": [
    "epochs = range(30)\n",
    "\n",
    "line1= plt.plot([0],[0], color=colors[1], alpha=1)\n",
    "line2= plt.plot([0],[0], color=colors[5], alpha=1)\n",
    "line3= plt.plot([0],[0], color=colors[2], alpha=1)\n",
    "line4= plt.plot([0],[0], color=colors[4], alpha=1)\n",
    "\n",
    "plt.fill_between(epochs, 0, reach_estimates_claw_over_time[:, 0], alpha=1.0, facecolor=colors[1])\n",
    "plt.fill_between(epochs, reach_estimates_claw_over_time[:, 0], reach_estimates_claw_over_time[:, 0] + reach_estimates_claw_over_time[:, 1], alpha=1.0, facecolor=colors[5])\n",
    "plt.fill_between(epochs, reach_estimates_claw_over_time[:, 0] + reach_estimates_claw_over_time[:, 1], reach_estimates_claw_over_time[:, 0] + reach_estimates_claw_over_time[:, 1] + reach_estimates_claw_over_time[:, 2], alpha=1.0, facecolor=colors[2])\n",
    "plt.fill_between(epochs, reach_estimates_claw_over_time[:, 0] + reach_estimates_claw_over_time[:, 1] + + reach_estimates_claw_over_time[:, 2], reach_estimates_claw_over_time[:, 0] + reach_estimates_claw_over_time[:, 1] + reach_estimates_claw_over_time[:, 2] + + reach_estimates_claw_over_time[:, 3], alpha=1.0, facecolor=colors[4])\n",
    "\n",
    "plt.legend((line1[0], line2[0], line3[0], line4[0]), ('still', 'random', 'reach', 'transport'))\n",
    "\n",
    "plt.xlim([0, 29])\n",
    "plt.ylim([0, 1])\n",
    "plt.xlabel('training phases')\n",
    "plt.ylabel('P(e(t)|O(t), Pi(t))')\n",
    "\n",
    "import tikzplotlib\n",
    "#plt.show()\n",
    "tikzplotlib.save(\"resultPlots/event_probability_reach_claw.tex\")\n"
   ]
  }
 ],
 "metadata": {
  "kernelspec": {
   "display_name": "Python 3",
   "language": "python",
   "name": "python3"
  },
  "language_info": {
   "codemirror_mode": {
    "name": "ipython",
    "version": 3
   },
   "file_extension": ".py",
   "mimetype": "text/x-python",
   "name": "python",
   "nbconvert_exporter": "python",
   "pygments_lexer": "ipython3",
   "version": "3.7.3"
  }
 },
 "nbformat": 4,
 "nbformat_minor": 2
}
