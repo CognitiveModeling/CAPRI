{
 "cells": [
  {
   "cell_type": "markdown",
   "metadata": {},
   "source": [
    "# Script to generate Figure 8"
   ]
  },
  {
   "cell_type": "code",
   "execution_count": null,
   "metadata": {},
   "outputs": [],
   "source": [
    "import numpy as np"
   ]
  },
  {
   "cell_type": "markdown",
   "metadata": {},
   "source": [
    "Define the directory for the log files"
   ]
  },
  {
   "cell_type": "code",
   "execution_count": null,
   "metadata": {},
   "outputs": [],
   "source": [
    "foldername = foldername= \"PATH:/to/your/data\" # enter directory of log files\n",
    "filename_tau1= foldername + '1_sim'\n",
    "filename_tau2= foldername + '2_sim'\n",
    "filename_tau3= foldername + '3_sim'\n",
    "num_sims = 20"
   ]
  },
  {
   "cell_type": "markdown",
   "metadata": {},
   "source": [
    "Indices and functions for fetching the relevant data"
   ]
  },
  {
   "cell_type": "code",
   "execution_count": null,
   "metadata": {},
   "outputs": [],
   "source": [
    "event_t = 1\n",
    "policy_t = 2"
   ]
  },
  {
   "cell_type": "code",
   "execution_count": null,
   "metadata": {},
   "outputs": [],
   "source": [
    "def find_t_look(data):\n",
    "    for t in range(270):\n",
    "        if data[t, policy_t] == 1 or (data[t, event_t] == 3 and data[t, policy_t] == 0):\n",
    "            return t\n",
    "    return 270"
   ]
  },
  {
   "cell_type": "code",
   "execution_count": null,
   "metadata": {},
   "outputs": [],
   "source": [
    "def find_t_look_policy(data):\n",
    "    for t in range(270):\n",
    "        if data[t, policy_t] == 1:\n",
    "            return t\n",
    "    return 270"
   ]
  },
  {
   "cell_type": "code",
   "execution_count": null,
   "metadata": {},
   "outputs": [],
   "source": [
    "def normalize_t(data, t_look):\n",
    "    return  (270 - t_look)/100"
   ]
  },
  {
   "cell_type": "markdown",
   "metadata": {},
   "source": [
    "# Hand-agent data"
   ]
  },
  {
   "cell_type": "markdown",
   "metadata": {},
   "source": [
    "Read in data for hand-agents and $\\tau \\in \\{1, 2, 3\\}$"
   ]
  },
  {
   "cell_type": "code",
   "execution_count": null,
   "metadata": {},
   "outputs": [],
   "source": [
    "# Hand-agent results for tau = 1\n",
    "looking_ts_hand_tau1 = np.zeros((num_sims, 30, 10), dtype='float64')\n",
    "looking_ts_hand_policy_tau1 = np.zeros((num_sims, 30, 10), dtype='float64')\n",
    "for sim in range(num_sims):\n",
    "    for epoch in range(30):\n",
    "        for run in range(10):\n",
    "            filename = filename_tau1 + str(sim) + '_epoch' + str(epoch) + '_hand_run' + str(run) + '.txt'\n",
    "            data = np.loadtxt(filename, dtype='float64', skiprows = 1, delimiter= ', ')\n",
    "            t_look = find_t_look(data)\n",
    "            t_look_policy = find_t_look_policy(data)\n",
    "            looking_ts_hand_tau1[sim, epoch, run] = normalize_t(data, t_look)\n",
    "            looking_ts_hand_policy_tau1[sim, epoch, run] = normalize_t(data, t_look_policy)\n",
    "    print(\"Processed hand-agent data for tau = 1 and simulation \" + str(sim))"
   ]
  },
  {
   "cell_type": "code",
   "execution_count": null,
   "metadata": {},
   "outputs": [],
   "source": [
    "# Hand-agent results for tau = 2\n",
    "looking_ts_hand_tau2 = np.zeros((num_sims, 30, 10), dtype='float64')\n",
    "looking_ts_hand_policy_tau2 = np.zeros((num_sims, 30, 10), dtype='float64')\n",
    "for sim in range(num_sims):\n",
    "    for epoch in range(30):\n",
    "        for run in range(10):\n",
    "            filename = filename_tau2 + str(sim) + '_epoch' + str(epoch) + '_hand_run' + str(run) + '.txt'\n",
    "            data = np.loadtxt(filename, dtype='float64', skiprows = 1, delimiter= ', ')\n",
    "            t_look = find_t_look(data)\n",
    "            t_look_policy = find_t_look_policy(data)\n",
    "            looking_ts_hand_tau2[sim, epoch, run] = normalize_t(data, t_look)\n",
    "            looking_ts_hand_policy_tau2[sim, epoch, run] = normalize_t(data, t_look_policy)\n",
    "    print(\"Processed hand-agent data for tau = 2 and simulation \" + str(sim))"
   ]
  },
  {
   "cell_type": "code",
   "execution_count": null,
   "metadata": {},
   "outputs": [],
   "source": [
    "looking_ts_hand_tau3 = np.zeros((num_sims, 30, 10), dtype='float64')\n",
    "looking_ts_hand_policy_tau3 = np.zeros((num_sims, 30, 10), dtype='float64')\n",
    "for sim in range(num_sims):\n",
    "    for epoch in range(30):\n",
    "        for run in range(10):\n",
    "            filename = filename_tau3 + str(sim) + '_epoch' + str(epoch) + '_hand_run' + str(run) + '.txt'\n",
    "            data = np.loadtxt(filename, dtype='float64', skiprows = 1, delimiter= ', ')\n",
    "            t_look = find_t_look(data)\n",
    "            t_look_policy = find_t_look_policy(data)\n",
    "            looking_ts_hand_tau3[sim, epoch, run] = normalize_t(data, t_look)\n",
    "            looking_ts_hand_policy_tau3[sim, epoch, run] = normalize_t(data, t_look_policy)\n",
    "    print(\"Processed hand-agent data for tau = 3 and simulation \" + str(sim))"
   ]
  },
  {
   "cell_type": "markdown",
   "metadata": {},
   "source": [
    "Compute mean gaze behavior for every $\\tau$"
   ]
  },
  {
   "cell_type": "code",
   "execution_count": null,
   "metadata": {},
   "outputs": [],
   "source": [
    "looking_ts_hand_mean_tau1 = np.mean(np.mean(looking_ts_hand_policy_tau1, axis=2), axis = 0)\n",
    "looking_ts_hand_sd_tau1 = np.std(np.mean(looking_ts_hand_policy_tau1, axis=2), axis=0)\n",
    "looking_ts_hand_mean_tau2 = np.mean(np.mean(looking_ts_hand_policy_tau2, axis=2), axis = 0)\n",
    "looking_ts_hand_sd_tau2 = np.std(np.mean(looking_ts_hand_policy_tau2, axis=2), axis=0)\n",
    "looking_ts_hand_mean_tau3 = np.mean(np.mean(looking_ts_hand_policy_tau3, axis=2), axis = 0)\n",
    "looking_ts_hand_sd_tau3 = np.std(np.mean(looking_ts_hand_policy_tau3, axis=2), axis=0)"
   ]
  },
  {
   "cell_type": "markdown",
   "metadata": {},
   "source": [
    "Plot the hand-agent data for different $\\tau$. Note that in simulation $\\tau = 1$ corresponds to decreasing uncertainty about the currently unfolding event, while in the paper we denote this with $\\tau = 0$. Thus, for the legend we use $\\tau \\leftarrow \\tau -1$"
   ]
  },
  {
   "cell_type": "code",
   "execution_count": null,
   "metadata": {},
   "outputs": [],
   "source": [
    "# Nice color definitions\n",
    "colors = [(0.368, 0.507, 0.71), (0.881, 0.611, 0.142),\n",
    "          (0.56, 0.692, 0.195), (0.923, 0.386, 0.209),\n",
    "          (0.528, 0.471, 0.701), (0.772, 0.432, 0.102),\n",
    "          (0.364, 0.619, 0.782), (0.572, 0.586, 0.) ]"
   ]
  },
  {
   "cell_type": "code",
   "execution_count": null,
   "metadata": {},
   "outputs": [],
   "source": [
    "import matplotlib.pyplot as plt\n",
    "\n",
    "epochs = range(30)\n",
    "\n",
    "# tau = 1\n",
    "x1 = epochs\n",
    "y1 = looking_ts_hand_mean_tau1\n",
    "err1 = looking_ts_hand_sd_tau1\n",
    "line1= plt.plot(x1, y1, color=colors[6], linewidth=8)\n",
    "plt.fill_between(x1, y1-err1, y1+err1, alpha=0.5, facecolor=colors[6])\n",
    "#line1 = plot.errorbar(x=epochs, y=looking_ts_hand_mean, yerr=looking_ts_hand_sd, color='b')\n",
    "\n",
    "# tau = 2\n",
    "x2 = epochs\n",
    "y2 = looking_ts_hand_mean_tau2\n",
    "err2 = looking_ts_hand_sd_tau2\n",
    "line2= plt.plot(x2, y2, color=colors[0], linewidth=8)\n",
    "plt.fill_between(x2, y2-err2, y2+err2, alpha=0.5, facecolor=colors[0])\n",
    "\n",
    "# tau = 3\n",
    "x3 = epochs\n",
    "y3 = looking_ts_hand_mean_tau3\n",
    "err3 = looking_ts_hand_sd_tau3\n",
    "line3= plt.plot(x3, y3, color=colors[4], linewidth=8)\n",
    "plt.fill_between(x3, y3-err3, y3+err3, alpha=0.5, facecolor=colors[4])\n",
    "\n",
    "# Denote event boundaries through lines\n",
    "plt.plot([0, 30], [0.0, 0.0], 'k')\n",
    "plt.plot([0, 30], [0.7, 0.7], 'k:')\n",
    "plt.plot([0, 30], [1.7, 1.7], 'k:')\n",
    "plt.plot([0, 30], [2.7, 2.7], 'k')\n",
    "plt.xlim([0, 30])\n",
    "plt.ylim([-0.5, 3.0])\n",
    "plt.yticks(np.arange(4), ('end of\\n sequence', 'end of \\ntransport', 'agent-\\n patient \\n contact', 'onset of \\n motion'))\n",
    "plt.legend((line1[0],  line2[0], line3[0]), ('tau = 0',  'tau = 1', 'tau = 2'))\n",
    "plt.title('Time t of first activation of \\pi_{patient} with a hand agent')\n",
    "plt.xlabel('# training phases')\n",
    "\n",
    "\n",
    "#plt.show()\n",
    "\n",
    "import tikzplotlib\n",
    "tikzplotlib.save(\"resultPlots/tikz_tau_comparison_hand.tex\")"
   ]
  },
  {
   "cell_type": "markdown",
   "metadata": {},
   "source": [
    "# Claw-agent data"
   ]
  },
  {
   "cell_type": "code",
   "execution_count": null,
   "metadata": {},
   "outputs": [],
   "source": [
    "looking_ts_claw_tau1 = np.zeros((num_sims, 30, 10), dtype='float64')\n",
    "looking_ts_claw_policy_tau1 = np.zeros((num_sims, 30, 10), dtype='float64')\n",
    "for sim in range(num_sims):\n",
    "    for epoch in range(30):\n",
    "        for run in range(10):\n",
    "            filename = filename_tau1 + str(sim) + '_epoch' + str(epoch) + '_claw_run' + str(run) + '.txt'\n",
    "            data = np.loadtxt(filename, dtype='float64', skiprows = 1, delimiter= ', ')\n",
    "            t_look = find_t_look(data)\n",
    "            t_look_policy = find_t_look_policy(data)\n",
    "            looking_ts_claw_tau1[sim, epoch, run] = normalize_t(data, t_look)\n",
    "            looking_ts_claw_policy_tau1[sim, epoch, run] = normalize_t(data, t_look_policy)\n",
    "    print(\"Processed claw-agent data for tau = 1 and simulation \" + str(sim))"
   ]
  },
  {
   "cell_type": "code",
   "execution_count": null,
   "metadata": {},
   "outputs": [],
   "source": [
    "looking_ts_claw_tau2 = np.zeros((num_sims, 30, 10), dtype='float64')\n",
    "looking_ts_claw_policy_tau2 = np.zeros((num_sims, 30, 10), dtype='float64')\n",
    "for sim in range(num_sims):\n",
    "    for epoch in range(30):\n",
    "        for run in range(10):\n",
    "            filename = filename_tau2 + str(sim) + '_epoch' + str(epoch) + '_claw_run' + str(run) + '.txt'\n",
    "            data = np.loadtxt(filename, dtype='float64', skiprows = 1, delimiter= ', ')\n",
    "            t_look = find_t_look(data)\n",
    "            t_look_policy = find_t_look_policy(data)\n",
    "            looking_ts_claw_tau2[sim, epoch, run] = normalize_t(data, t_look)\n",
    "            looking_ts_claw_policy_tau2[sim, epoch, run] = normalize_t(data, t_look_policy)\n",
    "    print(\"Processed claw-agent data for tau = 2 and simulation \" + str(sim))"
   ]
  },
  {
   "cell_type": "code",
   "execution_count": null,
   "metadata": {},
   "outputs": [],
   "source": [
    "looking_ts_claw_tau3 = np.zeros((num_sims, 30, 10), dtype='float64')\n",
    "looking_ts_claw_policy_tau3 = np.zeros((num_sims, 30, 10), dtype='float64')\n",
    "for sim in range(num_sims):\n",
    "    for epoch in range(30):\n",
    "        for run in range(10):\n",
    "            filename = filename_tau3 + str(sim) + '_epoch' + str(epoch) + '_claw_run' + str(run) + '.txt'\n",
    "            data = np.loadtxt(filename, dtype='float64', skiprows = 1, delimiter= ', ')\n",
    "            t_look = find_t_look(data)\n",
    "            t_look_policy = find_t_look_policy(data)\n",
    "            looking_ts_claw_tau3[sim, epoch, run] = normalize_t(data, t_look)\n",
    "            looking_ts_claw_policy_tau3[sim, epoch, run] = normalize_t(data, t_look_policy)\n",
    "    print(\"Processed claw-agent data for tau = 3 and simulation \" + str(sim))"
   ]
  },
  {
   "cell_type": "markdown",
   "metadata": {},
   "source": [
    "Compute the mean"
   ]
  },
  {
   "cell_type": "code",
   "execution_count": null,
   "metadata": {},
   "outputs": [],
   "source": [
    "looking_ts_claw_mean_tau1 = np.mean(np.mean(looking_ts_claw_policy_tau1, axis=2), axis = 0)\n",
    "looking_ts_claw_sd_tau1 = np.std(np.mean(looking_ts_claw_policy_tau1, axis=2), axis=0)\n",
    "looking_ts_claw_mean_tau2 = np.mean(np.mean(looking_ts_claw_policy_tau2, axis=2), axis = 0)\n",
    "looking_ts_claw_sd_tau2 = np.std(np.mean(looking_ts_claw_policy_tau2, axis=2), axis=0)\n",
    "looking_ts_claw_mean_tau3 = np.mean(np.mean(looking_ts_claw_policy_tau3, axis=2), axis = 0)\n",
    "looking_ts_claw_sd_tau3 = np.std(np.mean(looking_ts_claw_policy_tau3, axis=2), axis=0)"
   ]
  },
  {
   "cell_type": "markdown",
   "metadata": {},
   "source": [
    "Plot the data"
   ]
  },
  {
   "cell_type": "code",
   "execution_count": null,
   "metadata": {},
   "outputs": [],
   "source": [
    "import matplotlib.pyplot as plt\n",
    "\n",
    "epochs = range(30)\n",
    "\n",
    "# tau = 1\n",
    "x1 = epochs\n",
    "y1 = looking_ts_claw_mean_tau1\n",
    "err1 = looking_ts_claw_sd_tau1\n",
    "line1= plt.plot(x1, y1, color=colors[1], linewidth=8)\n",
    "plt.fill_between(x1, y1-err1, y1+err1, alpha=0.5, facecolor=colors[1])\n",
    "\n",
    "\n",
    "# tau = 2\n",
    "x2 = epochs\n",
    "y2 = looking_ts_claw_mean_tau2\n",
    "err2 = looking_ts_claw_sd_tau2\n",
    "line2= plt.plot(x2, y2, color=colors[3], linewidth=8)\n",
    "plt.fill_between(x2, y2-err2, y2+err2, alpha=0.5, facecolor=colors[3])\n",
    "\n",
    "# tau = 3\n",
    "x3 = epochs\n",
    "y3 = looking_ts_claw_mean_tau3\n",
    "err3 = looking_ts_claw_sd_tau3\n",
    "line3= plt.plot(x3, y3, color=colors[5], linewidth=8)\n",
    "plt.fill_between(x3, y3-err3, y3+err3, alpha=0.5, facecolor=colors[5])\n",
    "\n",
    "\n",
    "# plot the event boundaries\n",
    "plt.plot([0, 30], [0.0, 0.0], 'k')\n",
    "plt.plot([0, 30], [0.7, 0.7], 'k:')\n",
    "plt.plot([0, 30], [1.7, 1.7], 'k:')\n",
    "plt.plot([0, 30], [2.7, 2.7], 'k')\n",
    "plt.xlim([0, 30])\n",
    "plt.ylim([-0.5, 3.0])\n",
    "plt.yticks(np.arange(4), ('end of\\n sequence', 'end of \\ntransport', 'agent-\\n patient \\n contact', 'onset of \\n motion'))\n",
    "plt.legend((line1[0],  line2[0], line3[0]), ('tau = 0',  'tau = 1', 'tau = 2'))\n",
    "plt.title('Time t of first activation of \\pi_{patient} for claw agents')\n",
    "plt.xlabel('# training phases')\n",
    "\n",
    "\n",
    "#plt.show()\n",
    "tikzplotlib.save(\"resultPlots/tikz_tau_comparison_claw.tex\")"
   ]
  }
 ],
 "metadata": {
  "kernelspec": {
   "display_name": "Python 3",
   "language": "python",
   "name": "python3"
  },
  "language_info": {
   "codemirror_mode": {
    "name": "ipython",
    "version": 3
   },
   "file_extension": ".py",
   "mimetype": "text/x-python",
   "name": "python",
   "nbconvert_exporter": "python",
   "pygments_lexer": "ipython3",
   "version": "3.7.3"
  }
 },
 "nbformat": 4,
 "nbformat_minor": 2
}
