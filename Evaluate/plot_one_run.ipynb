{
 "cells": [
  {
   "cell_type": "markdown",
   "metadata": {},
   "source": [
    "# Script to generate Figure 5"
   ]
  },
  {
   "cell_type": "code",
   "execution_count": null,
   "metadata": {},
   "outputs": [],
   "source": [
    "import numpy as np"
   ]
  },
  {
   "cell_type": "markdown",
   "metadata": {},
   "source": [
    "The relevant data is the policy $\\pi(t)$ and the inferred event $e(t)$"
   ]
  },
  {
   "cell_type": "code",
   "execution_count": null,
   "metadata": {},
   "outputs": [],
   "source": [
    "# Define indices of data where to find which information\n",
    "event_t = 1\n",
    "policy_t = 2\n",
    "event_prob_t = 3"
   ]
  },
  {
   "cell_type": "code",
   "execution_count": null,
   "metadata": {},
   "outputs": [],
   "source": [
    "def get_relevant_data(data):\n",
    "    policies = np.zeros(270)\n",
    "    boundaries = np.zeros(2)\n",
    "    p_event = np.zeros((4, 270))\n",
    "    for t in range(270):\n",
    "        policies[t] = data[t, policy_t] + 1\n",
    "        if policies[t] == 3:\n",
    "            policies[t] = 0\n",
    "        if data[t, event_t] == 2 and data[t+1, event_t] == 3:\n",
    "            boundaries[0] = t\n",
    "        if data[t, event_t] == 3:\n",
    "            if t < 299 and data[t+1, event_t] == 1:\n",
    "                boundaries[1] = t\n",
    "        for i in range(4):\n",
    "            p_event[i, t] = data[t, event_prob_t + i]\n",
    "    return policies, boundaries, p_event"
   ]
  },
  {
   "cell_type": "markdown",
   "metadata": {},
   "source": [
    "# Hand plot"
   ]
  },
  {
   "cell_type": "markdown",
   "metadata": {},
   "source": [
    "This file plots the event and policy inference over one testing run. First select which runs to plot through a local path:"
   ]
  },
  {
   "cell_type": "code",
   "execution_count": null,
   "metadata": {},
   "outputs": [],
   "source": [
    "# Interesting event inference or gaze behavior for hand agent\n",
    "# Used in paper: Simulation 16, run 7\n",
    "filename =  \"PATH:/to/your/data/res_tau_2_sim16_epoch29_hand_run7.txt\""
   ]
  },
  {
   "cell_type": "markdown",
   "metadata": {},
   "source": [
    "Load data from this run"
   ]
  },
  {
   "cell_type": "code",
   "execution_count": null,
   "metadata": {},
   "outputs": [],
   "source": [
    "data = np.loadtxt(filename, dtype='float64', skiprows = 1, delimiter= ', ')\n",
    "policies, boundaries, p_event = get_relevant_data(data)"
   ]
  },
  {
   "cell_type": "markdown",
   "metadata": {},
   "source": [
    "Plot the run"
   ]
  },
  {
   "cell_type": "code",
   "execution_count": null,
   "metadata": {},
   "outputs": [],
   "source": [
    "# Nice color definitions\n",
    "colors = [(0.368, 0.507, 0.71), (0.881, 0.611, 0.142),\n",
    "          (0.56, 0.692, 0.195), (0.923, 0.386, 0.209),\n",
    "          (0.528, 0.471, 0.701), (0.772, 0.432, 0.102),\n",
    "          (0.364, 0.619, 0.782), (0.572, 0.586, 0.) ]"
   ]
  },
  {
   "cell_type": "code",
   "execution_count": null,
   "metadata": {},
   "outputs": [],
   "source": [
    "import matplotlib.pyplot as plt\n",
    "fig, axs = plt.subplots(2)\n",
    "fig.set_figwidth(15)\n",
    "fig.subplots_adjust(hspace=0)\n",
    "\n",
    "#Policy plot:\n",
    "axs[0].plot(range(270), policies, color='k', linewidth=1)\n",
    "axs[0].set_yticks(np.array([0, 1, 2]))\n",
    "axs[0].set_yticklabels(['\\pi_{none}', '\\pi_{agent}', '\\pi_{patient}'])\n",
    "axs[0].set_ylabel('Policy')\n",
    "axs[0].set_xlim([0, 270])\n",
    "axs[0].set_xticks([])\n",
    "\n",
    "axs[1].fill_between(range(270), 0,  p_event[0, :], color=colors[1], linewidth=1)\n",
    "axs[1].fill_between(range(270), p_event[0, :], p_event[0, :] + p_event[1, :], color=colors[5], linewidth=1)\n",
    "axs[1].fill_between(range(270), p_event[0, :] + p_event[1, :], p_event[0, :] + p_event[1, :] + p_event[2, :], color=colors[2], linewidth=1)\n",
    "axs[1].fill_between(range(270), p_event[0, :] + p_event[1, :] + p_event[2, :], 1.0, color=colors[4], linewidth=1)\n",
    "axs[1].set_xlabel('t')\n",
    "axs[1].set_yticks([0, 0.5, 1.0])\n",
    "axs[1].set_ylim([0, 1.1])\n",
    "axs[1].set_ylabel('P(e(t)| O(t), \\Pi(t))')\n",
    "axs[1].legend(['still', 'random', 'reach', 'transport'])\n",
    "#Lines for boundaries\n",
    "axs[0].plot([boundaries[0], boundaries[0]], [0.0, 2.0], 'k:')\n",
    "axs[1].plot([boundaries[0], boundaries[0]], [0.0, 2.0], 'k:')\n",
    "axs[0].plot([boundaries[1], boundaries[1]], [0.0, 2.0], 'k:')\n",
    "axs[1].plot([boundaries[1], boundaries[1]], [0.0, 2.0], 'k:')\n",
    "axs[1].set_xticks([boundaries[0], boundaries[1]])\n",
    "axs[1].set_xticklabels(['reach -> transport', 'transport -> random'])\n",
    "axs[1].set_xlim([0, 269])\n",
    "\n",
    "\n",
    "#plt.show()\n",
    "import tikzplotlib\n",
    "tikzplotlib.save(\"resultPlots/tikz_one_run_hand.tex\")"
   ]
  },
  {
   "cell_type": "markdown",
   "metadata": {},
   "source": [
    "# Claw plot"
   ]
  },
  {
   "cell_type": "code",
   "execution_count": null,
   "metadata": {},
   "outputs": [],
   "source": [
    "# Interesting event inference or gaze behavior for claw agent\n",
    "# Used in paper: Simulation 6 run 9\n",
    "filename =  \"PATH:/to/your/data/res_tau_2_sim6_epoch29_claw_run9.txt\"\n"
   ]
  },
  {
   "cell_type": "code",
   "execution_count": null,
   "metadata": {},
   "outputs": [],
   "source": [
    "data = np.loadtxt(filename, dtype='float64', skiprows = 1, delimiter= ', ')\n",
    "policies, boundaries, p_event = get_relevant_data(data)"
   ]
  },
  {
   "cell_type": "code",
   "execution_count": null,
   "metadata": {},
   "outputs": [],
   "source": [
    "import matplotlib.pyplot as plt\n",
    "fig, axs = plt.subplots(2)\n",
    "fig.set_figwidth(15)\n",
    "fig.subplots_adjust(hspace=0)\n",
    "\n",
    "#Policy plot:\n",
    "axs[0].plot(range(270), policies, color='k', linewidth=1)\n",
    "axs[0].set_yticks(np.array([0, 1, 2]))\n",
    "axs[0].set_yticklabels(['\\pi_{none}', '\\pi_{agent}', '\\pi_{patient}'])\n",
    "axs[0].set_ylabel('Policy')\n",
    "axs[0].set_xlim([0, 270])\n",
    "axs[0].set_xticks([])\n",
    "\n",
    "axs[1].fill_between(range(270), 0,  p_event[0, :], color=colors[1], linewidth=1)\n",
    "axs[1].fill_between(range(270), p_event[0, :], p_event[0, :] + p_event[1, :], color=colors[5], linewidth=1)\n",
    "axs[1].fill_between(range(270), p_event[0, :] + p_event[1, :], p_event[0, :] + p_event[1, :] + p_event[2, :], color=colors[2], linewidth=1)\n",
    "axs[1].fill_between(range(270), p_event[0, :] + p_event[1, :] + p_event[2, :], 1.0, color=colors[4], linewidth=1)\n",
    "axs[1].set_xlabel('t')\n",
    "axs[1].set_yticks([0, 0.5, 1.0])\n",
    "axs[1].set_ylim([0, 1.1])\n",
    "axs[1].set_ylabel('P(e(t)| O(t), \\Pi(t))')\n",
    "axs[1].legend(['still', 'random', 'reach', 'transport'])\n",
    "#Lines for boundaries\n",
    "axs[0].plot([boundaries[0], boundaries[0]], [0.0, 2.0], 'k:')\n",
    "axs[1].plot([boundaries[0], boundaries[0]], [0.0, 2.0], 'k:')\n",
    "axs[0].plot([boundaries[1], boundaries[1]], [0.0, 2.0], 'k:')\n",
    "axs[1].plot([boundaries[1], boundaries[1]], [0.0, 2.0], 'k:')\n",
    "axs[1].set_xticks([boundaries[0], boundaries[1]])\n",
    "axs[1].set_xticklabels(['reach -> transport', 'transport -> random'])\n",
    "axs[1].set_xlim([0, 269])\n",
    "\n",
    "\n",
    "#plt.show()\n",
    "import tikzplotlib\n",
    "tikzplotlib.save(\"resultPlots/tikz_one_run_claw.tex\")"
   ]
  }
 ],
 "metadata": {
  "kernelspec": {
   "display_name": "Python 3",
   "language": "python",
   "name": "python3"
  },
  "language_info": {
   "codemirror_mode": {
    "name": "ipython",
    "version": 3
   },
   "file_extension": ".py",
   "mimetype": "text/x-python",
   "name": "python",
   "nbconvert_exporter": "python",
   "pygments_lexer": "ipython3",
   "version": "3.7.3"
  }
 },
 "nbformat": 4,
 "nbformat_minor": 2
}
